{
 "cells": [
  {
   "cell_type": "markdown",
   "id": "264f5b25-124a-4b17-a3b0-7dd74a11733c",
   "metadata": {},
   "source": [
    "# L3: Tools for your agent\n",
    "Welcome to Lesson 3 **Tools for your agent**. In this lesson, you'll learn how to add custom function tools and enhance your agent with external data sources. You'll integrate financial data APIs and build more sophisticated agent instructions—essential skills for building reliable AI applications.\n",
    "\n",
    "### Building on previous lessons:\n",
    "- **Lesson 1**: Basic agents with Google search capabilities\n",
    "- **Lesson 2**: Session, State & Memory in agents\n",
    "\n",
    "### What's new in Lesson 3:\n",
    "This lesson teaches you to extend agents beyond basic web search by adding custom tools that interact with external APIs and data sources.\n",
    "\n",
    "## 3.1 Getting Started\n",
    "The following python packages are pre-installed, but listed here for your reference. This will install a handy set of command-line tools that will be useful when working with ADK."
   ]
  },
  {
   "cell_type": "code",
   "execution_count": null,
   "id": "b2929383-9a35-423b-a439-fc7bfbe27bb5",
   "metadata": {},
   "outputs": [],
   "source": [
    "# !pip install -q google-adk>=1.12.0\n",
    "# !pip install yfinance"
   ]
  },
  {
   "cell_type": "code",
   "execution_count": null,
   "id": "b49e8d4e-eecd-4399-8010-94bfa853a153",
   "metadata": {},
   "outputs": [],
   "source": [
    "from helper import *\n",
    "\n",
    "# Load environment variables from .env file\n",
    "load_env()"
   ]
  },
  {
   "cell_type": "markdown",
   "id": "786dff08-6986-4974-81fe-88ffd67f393e",
   "metadata": {},
   "source": [
    "## 3.2 Setting up your agent\n",
    "The first step is to create the ADK folder, just like you've done in the previous lessons. "
   ]
  },
  {
   "cell_type": "code",
   "execution_count": null,
   "id": "b2703872-6e80-410d-8b19-2f072a059756",
   "metadata": {},
   "outputs": [],
   "source": [
    "# First we create our expected agent folder \n",
    "# You can explore available option: !adk create --help \n",
    "\n",
    "!adk create --type=code app03 --model gemini-2.0-flash-live-001 --api_key $GEMINI_API_KEY"
   ]
  },
  {
   "cell_type": "markdown",
   "id": "4ea1ee9d-ae6e-42a5-8a41-2da62e88d63b",
   "metadata": {},
   "source": [
    "## 3.3 Building a Custom Function Tool\n",
    "Now you'll create your first **custom function tool**. In ADK, a Function Tool is a modular code component that gives your agent specific capabilities to interact with external systems or process data.\n",
    "\n",
    "### Adding the Financial Tool\n",
    "Let's break down the key components of this function tool:\n",
    "\n",
    "- **Type Annotations**: List[str] and Dict[str, str] enable ADK's automatic schema generation  \n",
    "- **Comprehensive Docstring**: The docstring becomes the tool's description that the agent sees  \n",
    "- **Error Handling**: Try-catch blocks ensure graceful failures for invalid tickers or network issues  \n",
    "- **Consistent Output**: Always returns a dictionary with formatted strings, even for errors  \n",
    "\n",
    "This tool fetches current stock prices and daily percentage changes using the Yahoo Finance API through the yfinance library."
   ]
  },
  {
   "cell_type": "code",
   "execution_count": null,
   "id": "7020fb11-3b40-4bdc-a8d4-beec24ea8bd9",
   "metadata": {},
   "outputs": [],
   "source": [
    "%%writefile app03/agent.py\n",
    "\n",
    "from typing import Dict, List\n",
    "from google.adk.agents import Agent\n",
    "from google.adk.tools import google_search\n",
    "import yfinance as yf\n",
    "\n",
    "def get_financial_context(tickers: List[str]) -> Dict[str, str]:\n",
    "    \"\"\"\n",
    "    Fetches the current stock price and daily change for a list of stock tickers\n",
    "    using the yfinance library.\n",
    "\n",
    "    Args:\n",
    "        tickers: A list of stock market tickers (e.g., [\"GOOG\", \"NVDA\"]).\n",
    "\n",
    "    Returns:\n",
    "        A dictionary mapping each ticker to its formatted financial data string.\n",
    "    \"\"\"\n",
    "    financial_data: Dict[str, str] = {}\n",
    "    for ticker_symbol in tickers:\n",
    "        try:\n",
    "            # Create a Ticker object\n",
    "            stock = yf.Ticker(ticker_symbol)\n",
    "\n",
    "            # Fetch the info dictionary\n",
    "            info = stock.info\n",
    "\n",
    "            # Safely access the required data points\n",
    "            price = info.get(\"currentPrice\") or info.get(\"regularMarketPrice\")\n",
    "            change_percent = info.get(\"regularMarketChangePercent\")\n",
    "\n",
    "            if price is not None and change_percent is not None:\n",
    "                # Format the percentage and the final string\n",
    "                change_str = f\"{change_percent * 100:+.2f}%\"\n",
    "                financial_data[ticker_symbol] = f\"${price:.2f} ({change_str})\"\n",
    "            else:\n",
    "                # Handle cases where the ticker is valid but data is missing\n",
    "                financial_data[ticker_symbol] = \"Price data not available.\"\n",
    "\n",
    "        except Exception:\n",
    "            # This handles invalid tickers or other yfinance errors gracefully\n",
    "            financial_data[ticker_symbol] = \"Invalid Ticker or Data Error\"\n",
    "\n",
    "    return financial_data"
   ]
  },
  {
   "cell_type": "markdown",
   "id": "def24154-2c9d-4b0f-89f9-96883549ded5",
   "metadata": {},
   "source": [
    "### Understanding Function Tools\n",
    "What makes a good function tool:\n",
    "\n",
    "- **Clear Documentation**: Comprehensive docstrings that ADK uses for tool descriptions  \n",
    "- **Type Annotations**: Essential for ADK's automatic tool registration and schema validation  \n",
    "- **Robust Error Handling**: Graceful failure modes prevent agent crashes  \n",
    "- **Consistent Return Format**: Predictable output structure agents can reliably process  \n",
    "\n",
    "## 3.4 Adding your root agent \n",
    "Now let's create your agent with sophisticated instructions that use both the Google Search tool and your custom financial tool.\n",
    "\n",
    "Let's examine the enhanced instructions:\n",
    "\n",
    "### Key Instruction Patterns\n",
    "Notice how these instructions implement several best practices:\n",
    "\n",
    "1. **Structured Workflow**: 5-step process from clarification to detailed discussion  \n",
    "2. **Tool Citation Requirements**: Agent must cite google_search and get_financial_context usage  \n",
    "3. **Interactive Design**: Prompts user for input at each stage rather than providing monologues  \n",
    "4. **Scope Boundaries**: Clear rules about staying focused on AI news for US-listed companies  \n",
    "5. **Error Handling**: Graceful responses when asked about off-topic subjects  \n",
    "\n",
    "This creates a much more reliable and user-friendly conversational experience."
   ]
  },
  {
   "cell_type": "code",
   "execution_count": null,
   "id": "6582babd-3264-4678-bac5-1b770276b8b4",
   "metadata": {},
   "outputs": [],
   "source": [
    "%%writefile -a app03/agent.py\n",
    "\n",
    "root_agent = Agent(\n",
    "    name=\"ai_news_chat_assistant\",\n",
    "    model=\"gemini-2.0-flash-live-001\",\n",
    "    instruction=\"\"\"\n",
    "    You are an AI News Analyst specializing in recent AI news about US-listed companies. Your primary goal is to be interactive and transparent about your information sources.\n",
    "\n",
    "    **Your Workflow:**\n",
    "\n",
    "    1.  **Clarify First:** If the user makes a general request for news (e.g., \"give me AI news\"), your very first response MUST be to ask for more details.\n",
    "        *   **Your Response:** \"Sure, I can do that. How many news items would you like me to find?\"\n",
    "        *   Wait for their answer before doing anything else.\n",
    "\n",
    "    2.  **Search and Enrich:** Once the user specifies a number, perform the following steps:\n",
    "        *   Use the `google_search` tool to find the requested number of recent AI news articles.\n",
    "        *   For each article, identify the US-listed company and its stock ticker.\n",
    "        *   Use the `get_financial_context` tool to retrieve the stock data for the identified tickers.\n",
    "\n",
    "    3.  **Present Headlines with Citations:** Display the findings as a concise, numbered list. You MUST cite your tools.\n",
    "        *   **Start with:** \"Using `google_search` for news and `get_financial_context` (via yfinance) for market data, here are the top headlines:\"\n",
    "        *   **Format:**\n",
    "            1.  [Headline 1] - [Company Stock Info]\n",
    "            2.  [Headline 2] - [Company Stock Info]\n",
    "\n",
    "    4.  **Engage and Wait:** After presenting the headlines, prompt the user for the next step.\n",
    "        *   **Your Response:** \"Which of these are you interested in? Or should I search for more?\"\n",
    "\n",
    "    5.  **Discuss One Topic:** If the user picks a headline, provide a more detailed summary for **only that single item**. Then, re-engage the user.\n",
    "\n",
    "    **Strict Rules:**\n",
    "    *   **Stay on Topic:** You ONLY discuss AI news related to US-listed companies. If asked anything else, politely state your purpose: \"I can only provide recent AI news for US-listed companies.\"\n",
    "    *   **Short Turns:** Keep your responses brief and always hand the conversation back to the user. Avoid long monologues.\n",
    "    *   **Cite Your Tools:** Always mention `google_search` when presenting news and `get_financial_context` when presenting financial data.\n",
    "    \"\"\",\n",
    "    tools=[google_search, get_financial_context],\n",
    ")"
   ]
  },
  {
   "cell_type": "markdown",
   "id": "d09babe8-a2ec-45ae-b9e6-56ad0c47004c",
   "metadata": {},
   "source": [
    "## 3.5 Test Your Agent\n",
    "Let's test your agent using the ADK Web UI. These steps will be repeated for all lessons in this course.\n",
    "\n",
    "1. Run the below cell to start a new terminal.\n",
    "2. In the terminal, navigate to the L3 directory using the following command `cd L3`\n",
    "3. In the terminal, start the ADK web server using the command `adk web --host 0.0.0.0 --port 8003`"
   ]
  },
  {
   "cell_type": "markdown",
   "id": "d75e7665-1542-425b-9ca5-f510c6602ac5",
   "metadata": {},
   "source": [
    "<p style=\"background-color:#fff6e4; padding:15px; border-width:3px; border-color:#f5ecda; border-style:solid; border-radius:6px\"> ⏳ <b>Note <code>Iframe Terminal</code>:</b> Once you run the following cell, it can take a few seconds to start a new terminal window in the Jupyter Notebook cell.</p>"
   ]
  },
  {
   "cell_type": "code",
   "execution_count": null,
   "id": "6e073b8b-7fb4-46bd-a39b-94816a77ca1d",
   "metadata": {},
   "outputs": [],
   "source": [
    "# start a new terminal\n",
    "import os\n",
    "from IPython.display import IFrame\n",
    "\n",
    "IFrame(f\"{os.environ.get('DLAI_LOCAL_URL').format(port=8888)}terminals/3\", \n",
    "       width=600, height=768)\n",
    "\n",
    "\n",
    "# adk web --host 0.0.0.0 --port 8003"
   ]
  },
  {
   "cell_type": "markdown",
   "id": "46ad165c-d744-474b-a82d-4db51911dcc7",
   "metadata": {},
   "source": [
    "### Get your application URL\n",
    "After you start the Google ADK server, run the following cell to get the URL where you can access your agent in the ADK Web UI: "
   ]
  },
  {
   "cell_type": "code",
   "execution_count": null,
   "id": "ef077c42-edf6-43d4-93db-40a274cc37cd",
   "metadata": {},
   "outputs": [],
   "source": [
    "import os\n",
    "print(os.environ.get('DLAI_LOCAL_URL').format(port='8003'))"
   ]
  },
  {
   "cell_type": "markdown",
   "id": "3b3f6e7d-a88a-40bc-8994-721b59005002",
   "metadata": {},
   "source": [
    "<p style=\"background-color:#fff6e4; padding:15px; border-width:3px; border-color:#f5ecda; border-style:solid; border-radius:6px\"> ⏳ <b>Remember:</b> Stop the ADK web server before moving to the next section by running the following line of code:  <b>!pkill -f \"adk web\"</b></p>"
   ]
  },
  {
   "cell_type": "markdown",
   "id": "37777209-b2fd-4cf8-994b-d52b4fb34a58",
   "metadata": {},
   "source": [
    "### Try This Testing Sequence\n",
    "Once your agent is running, try this conversation flow to see all the features in action:\n",
    "\n",
    "1. Start with a general request: \"Give me AI news for Google\"  \n",
    "2. Respond to clarification: \"Give me 3 top AI news items for publicly traded US tech stocks\"  \n",
    "3. Pick a specific story: \"Tell me more about the first one\"  \n",
    "4. Test boundaries: \"What's the weather today?\" (should be refused)  \n",
    "\n",
    "Watch how the agent uses both tools in coordination and maintains conversation flow."
   ]
  },
  {
   "cell_type": "markdown",
   "id": "da0d6796-8c27-401c-a10b-c720171c81e6",
   "metadata": {},
   "source": [
    "<p style=\"background-color:#fff6e4; padding:15px; border-width:3px; border-color:#f5ecda; border-style:solid; border-radius:6px\"> ⏳ <b>Note:Tool Coordination</b> Watch how your agent coordinates between the two tools. It first uses `google_search` to find AI news articles, then identifies company tickers mentioned in those articles, and finally calls `get_financial_context` to enrich the news with current stock information. This demonstrates how multiple tools can work together to provide comprehensive responses.</p>"
   ]
  },
  {
   "cell_type": "markdown",
   "id": "4f01f9ae-88ea-49bc-a5bb-c7867aff2cb3",
   "metadata": {},
   "source": [
    "## 🎯 3.6 Exercise: Expand Your Tool\n",
    "Now it's your turn to experiment and enhance the agent! Try these modifications:\n",
    "\n",
    "### Exercise 1: Add Another Custom Tool\n",
    "Create a new custom tool and add it to your agent. Here are some ideas:\n",
    "\n",
    "- **Company Info Tool**: Use an API to get company details (headquarters, CEO, employee count)\n",
    "- **News Sentiment Tool**: Analyze the sentiment of news headlines (positive/negative/neutral)\n",
    "- **Market Summary Tool**: Get overall market indices (S&P 500, NASDAQ, Dow Jones)\n",
    "- **AI Trends Tool**: Track mentions of specific AI technologies (LLM, computer vision, robotics)\n",
    "\n",
    "**Hint**: Follow the same pattern as get_financial_context - include type annotations, comprehensive docstrings, and robust error handling. \n",
    "\n",
    "Don't forget to add your new tool to the agent's tools array!\n",
    "\n",
    "### Exercise 2: Instruction Refinement\n",
    "Enhance the agent instructions to:\n",
    "\n",
    "- Request user preference for number of companies to track (1-5 range)\n",
    "- Add a disclaimer about financial data being for informational purposes only\n",
    "- Include timestamp information about when the data was fetched\n",
    "\n",
    "### Exercise 3: Conversation Flow\n",
    "Test the conversation boundaries:\n",
    "\n",
    "- Try asking about non-US companies and see how the agent responds\n",
    "- Test with different types of AI news (research, products, acquisitions)\n",
    "- See how the agent handles follow-up questions about specific companies\n",
    "\n",
    "### Exercise 4: Error Handling\n",
    "Test the tool's error handling:\n",
    "\n",
    "- Try requesting financial data for invalid ticker symbols\n",
    "- Test with companies that might not have complete financial data\n",
    "- See how the agent handles network connectivity issues\n",
    "\n",
    "**Pro Tip**: Use the `--reload_agents` flag when starting `adk web` so you can iterate quickly!"
   ]
  },
  {
   "cell_type": "markdown",
   "id": "4cd0b655-276f-4f03-85d7-a7f980ad276d",
   "metadata": {},
   "source": [
    "## 3.7 📚 References and Additional Resources\n",
    "### Official Documentation\n",
    "- [Google ADK Tools Guide](https://google.github.io/adk-docs/tools/)\n",
    "- [Function Tools Documentation](https://google.github.io/adk-docs/tools/function-tools/)\n",
    "- [yfinance Library Documentation](https://pypi.org/project/yfinance/)\n",
    "\n",
    "### Key Concepts Covered\n",
    "- **Custom Function Tools:** Python functions that extend agent capabilities\n",
    "- **Tool Coordination:** Using multiple tools together for comprehensive responses\n",
    "- **Type Annotations:** Essential for ADK's automatic tool registration\n",
    "- **Error Handling:** Building robust tools that handle edge cases gracefully\n",
    "- **Interactive Agent Design:** Creating conversational agents that engage users\n",
    "\n",
    "### Advanced Tool Patterns\n",
    "- **Tool Composition:** Combining outputs from multiple tools\n",
    "- **Conditional Tool Usage:** Using tools based on user input or context\n",
    "- **Tool Citations:** Transparent tool usage reporting\n",
    "- **Graceful Degradation:** Handling tool failures elegantly"
   ]
  },
  {
   "cell_type": "markdown",
   "id": "ab22bb34-87e2-4e61-9007-24db3d2d4903",
   "metadata": {},
   "source": [
    "# 🚨 **IMPORTANT** 🚨\n",
    "\n",
    "After finishing, make sure to run the cell below to close your connection so it does not interfere as you progress through the notebooks."
   ]
  },
  {
   "cell_type": "code",
   "execution_count": null,
   "id": "6366987d-c506-468b-a8ad-a1155f7e267e",
   "metadata": {},
   "outputs": [],
   "source": [
    "# Kill ADK process\n",
    "!pkill -f \"adk web\""
   ]
  },
  {
   "cell_type": "markdown",
   "id": "6cf76747-05d4-46be-ac15-4825977f9c5b",
   "metadata": {},
   "source": [
    "<p style=\"background-color:#f7fff8; padding:15px; border-width:3px; border-color:#e0f0e0; border-style:solid; border-radius:6px\"> 🚨\n",
    "&nbsp; <b>Different Run Results:</b> The output generated by AI chat models can vary with each execution due to their dynamic, probabilistic nature. Don't be surprised if your results differ from those shown in the video.</p>"
   ]
  },
  {
   "cell_type": "markdown",
   "id": "b9eaa3d1-1122-43fc-b789-ed1b768a6680",
   "metadata": {},
   "source": [
    "<div style=\"background-color:#fff6ff; padding:13px; border-width:3px; border-color:#efe6ef; border-style:solid; border-radius:6px\">\n",
    "<p> 💻 &nbsp; <b> To Access the <code>requirements.txt</code> file or the <code>papers</code> folder: </b> 1) click on the <em>\"File\"</em> option on the top menu of the notebook and then 2) click on <em>\"Open\"</em> and finally 3) click on <em>\"L3\"</em>.\n",
    "</div>"
   ]
  },
  {
   "cell_type": "markdown",
   "id": "c40b4e8b-bac5-49bb-ac0d-a7a81ccc159f",
   "metadata": {},
   "source": [
    "<div style=\"background-color:#fff6ff; padding:13px; border-width:3px; border-color:#efe6ef; border-style:solid; border-radius:6px\">\n",
    "\n",
    "\n",
    "<p> ⬇ &nbsp; <b>Download Notebooks:</b> 1) click on the <em>\"File\"</em> option on the top menu of the notebook and then 2) click on <em>\"Download as\"</em> and select <em>\"Notebook (.ipynb)\"</em>.</p>\n",
    "\n",
    "</div>"
   ]
  },
  {
   "cell_type": "markdown",
   "id": "a8cfd838-f5cc-424b-b95f-192af7d17fa3",
   "metadata": {},
   "source": [
    "### What's Next\n",
    "In **Lesson 4**, you'll learn to how to implement structured output using Pydantic schemas to ensure consistent, reliable agent responses.\n",
    "\n",
    "You've now built an agent that combines web search with real-time financial data—a powerful pattern for building practical AI applications! 🚀"
   ]
  }
 ],
 "metadata": {
  "kernelspec": {
   "display_name": "Python 3 (ipykernel)",
   "language": "python",
   "name": "python3"
  },
  "language_info": {
   "codemirror_mode": {
    "name": "ipython",
    "version": 3
   },
   "file_extension": ".py",
   "mimetype": "text/x-python",
   "name": "python",
   "nbconvert_exporter": "python",
   "pygments_lexer": "ipython3",
   "version": "3.11.6"
  }
 },
 "nbformat": 4,
 "nbformat_minor": 5
}
