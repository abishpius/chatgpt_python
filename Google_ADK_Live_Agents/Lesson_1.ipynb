{
 "cells": [
  {
   "cell_type": "markdown",
   "id": "30126d50-5711-4310-9625-6318548e13cb",
   "metadata": {},
   "source": [
    "# L1: Build your first agent\n",
    "\n",
    "Welcome to **Building AI News Podcast Agent with Google ADK!** In this lesson, you'll build your first AI agent and give it the power to access real-time information from the web. You'll learn the fundamental structure of an agent and explore the ADK Web UI, which is a convenient way to trace your agent's thinking and interact through live voice conversations.\n",
    "\n",
    "Throughout this course, you'll be building a complete AI News Podcast Agent that can research the latest AI developments and generate professional audio podcasts. This lesson lays the foundation with a simple agent that can fetch recent AI news from the web.\n",
    "\n",
    "### What you'll learn\n",
    "In this lesson, you'll build a simple agent that can fetch recent AI news from the web. An agent is a construct that has an LLM and tools:\n",
    "\n",
    "- You'll learn about the fundamental structure of an agent\n",
    "- You'll become familiar with an **LLM** as the brain of the agent providing it the generative language capabilities\n",
    "- You'll explore **tools** that let the agent take actions in the real world\n",
    "\n",
    "You'll also explore alternative development approaches including YAML configuration and Web Builder options.\n"
   ]
  },
  {
   "cell_type": "markdown",
   "id": "d76696f9-ad73-4edb-a0d0-16014c050b10",
   "metadata": {},
   "source": [
    "## 1.1 Getting started\n",
    "\n",
    "The following python packages are pre-installed, but listed here for your reference. This will install a handy set of command-line tools that will be useful when working with ADK."
   ]
  },
  {
   "cell_type": "code",
   "execution_count": null,
   "id": "0fda6d63-d4bd-43c8-9a9e-23fa6df914ea",
   "metadata": {},
   "outputs": [],
   "source": [
    "# !pip install -q google-adk>=1.12.0"
   ]
  },
  {
   "cell_type": "code",
   "execution_count": 1,
   "id": "4b2b21b3-ee77-4028-b3f7-937fbd57e237",
   "metadata": {},
   "outputs": [],
   "source": [
    "from helper import *\n",
    "\n",
    "# Load environment variables from .env file\n",
    "load_env()"
   ]
  },
  {
   "cell_type": "markdown",
   "id": "e4cced82-a85e-4a6f-9e0a-aa357048ec7c",
   "metadata": {},
   "source": [
    "## 1.2 Setting up your first agent\n",
    "\n",
    "Before we dive into building agents, let's set up a new folder structure with ADK's built-in project scaffolding using the `adk create` command.\n",
    "\n",
    "When you run `adk create`, it generates three essential files. \n",
    "1. The `.env` file securely stores your API credentials and configuration. \n",
    "2. The `__init__.py` file marks the directory as a Python package, nabling proper imports. \n",
    "3. Most importantly, the `agent.py` file provides a clean foundation where you'll implement your agent.\n",
    "\n",
    "File structure:\n",
    "```\n",
    "app_01/\n",
    "    __init__.py\n",
    "    agent.py\n",
    "    .env\n",
    "```\n",
    "\n",
    "ADK create supports two project types. The `--type=code` option generates a Python-based agent in `agent.py`. The `--type=config` option creates a YAML-based agent configuration.\n",
    "\n",
    "The `--model` parameter specifies the LLM to be used by the agent. We will override this and experiment with different models as we create the agents in this lesson.\n",
    "\n",
    "### Setting up authentication\n",
    "\n",
    "Before using any AI models, the first step is to configure API credentials. There are several methods to authenticate with Google's Gemini models, including:\n",
    "1. Google API key and \n",
    "2. Vertex AI based authentication.\n",
    "\n",
    "For more information on setting up your own authentication, visit [Google](https://cloud.google.com/free?hl=en). \n",
    "\n",
    "The `--api_key` parameter automatically configures your project for Google's Gemini API, setting up the proper authentication environment variables. In this course your API key is configured for you already.\n",
    "\n",
    "Run the cell below to create the folder structure for your agent!"
   ]
  },
  {
   "cell_type": "code",
   "execution_count": 2,
   "id": "3889db8f-613a-48f4-a331-9b482c9c3197",
   "metadata": {},
   "outputs": [
    {
     "name": "stdout",
     "output_type": "stream",
     "text": [
      "\u001b[32m\n",
      "Agent created in /home/jovyan/work/L1/app_01:\n",
      "- .env\n",
      "- __init__.py\n",
      "- agent.py\n",
      "\u001b[0m\n"
     ]
    }
   ],
   "source": [
    "# First we create our expected agent folder \n",
    "# You can explore available option: !adk create --help \n",
    "\n",
    "!adk create --type=code app_01 --model gemini-2.0-flash-live-001 --api_key $GEMINI_API_KEY"
   ]
  },
  {
   "cell_type": "markdown",
   "id": "55fa80b3-c170-4da5-b117-309689d5c36b",
   "metadata": {},
   "source": [
    "## 1.3 Writing your first `agent.py`\n",
    "\n",
    "Throughout this course, you will be using the `adk create` command to create folders and then write to its agent.py using the cell magic in the notebook. Cell magic uses specific commands to interact with the files in your new agent folder. You will use `%%writefile FILENAME` to do this.\n",
    "\n",
    "Let's start with the absolute simplest agent possible—one that has no internet access at all. You'll create an Agent with a unique name, specify the LLM model, and give it basic instructions.\n",
    "\n",
    "As with any agent, you need an LLM to start with. ADK is model agnostic - meaning you can provide it with any model of your choice like Gemini, Claude, Ollama and even use LiteLLM to bring in other models. In this lesson, you'll be using the Gemini 2.0 flash and Gemini 2.0 flash live models."
   ]
  },
  {
   "cell_type": "code",
   "execution_count": 3,
   "id": "8e306afd-5438-4ee7-9198-260609c0fcd3",
   "metadata": {},
   "outputs": [
    {
     "name": "stdout",
     "output_type": "stream",
     "text": [
      "Overwriting app_01/agent.py\n"
     ]
    }
   ],
   "source": [
    "%%writefile app_01/agent.py\n",
    "\n",
    "from google.adk.agents import Agent\n",
    "\n",
    "root_agent = Agent(\n",
    "    name=\"ai_news_agent_simple\",\n",
    "    model=\"gemini-2.0-flash-live-001\", # Essential for live voice interaction\n",
    "    instruction=\"You are an AI News Assistant.\",\n",
    ")"
   ]
  },
  {
   "cell_type": "markdown",
   "id": "eaf98f2a-9a99-4d39-b3e1-56a3861af3eb",
   "metadata": {},
   "source": [
    "## 1.4 Running your first agent\n",
    "\n",
    "Now comes the exciting part—actually using what you've built. ADK gives you several ways to run your agent, but for development and learning, you'll use the ADK Web UI.\n",
    "\n",
    "To start the local server and access the Web UI, follow the below steps:\n",
    "\n",
    "**Terminal Instructions**\n",
    "1. To open the terminal, run the cell below.\n",
    "2. Change to the current lesson directory with the following command: `cd L1`\n",
    "4. Start your agent using the following command: `adk web --host 0.0.0.0 --port 8001`\n",
    "5. Run the cell below the terminal, to display the proxy URL. (This step is only needed within this codelab. When running externally, you can directly access the local server link.)\n",
    "\n",
    "Here's a closer look at the command that starts the agent.\n",
    "- `adk web`: A simple command that starts your agent on the Web UI\n",
    "- `--host 0.0.0.0`: The host address\n",
    "- `--port 8001`: The port we will access the server from. In this case, port `8001`."
   ]
  },
  {
   "cell_type": "code",
   "execution_count": 4,
   "id": "0d1ceb02-d6da-4922-85bd-68808bfd4901",
   "metadata": {},
   "outputs": [
    {
     "data": {
      "text/html": [
       "\n",
       "        <iframe\n",
       "            width=\"600\"\n",
       "            height=\"768\"\n",
       "            src=\"https://s172-29-23-103p8888.lab-aws-production.deeplearning.ai/terminals/1\"\n",
       "            frameborder=\"0\"\n",
       "            allowfullscreen\n",
       "            \n",
       "        ></iframe>\n",
       "        "
      ],
      "text/plain": [
       "<IPython.lib.display.IFrame at 0x7f6445618dd0>"
      ]
     },
     "execution_count": 4,
     "metadata": {},
     "output_type": "execute_result"
    }
   ],
   "source": [
    "# start a new terminal\n",
    "import os\n",
    "from IPython.display import IFrame\n",
    "\n",
    "IFrame(f\"{os.environ.get('DLAI_LOCAL_URL').format(port=8888)}terminals/1\", \n",
    "       width=600, height=768)"
   ]
  },
  {
   "cell_type": "markdown",
   "id": "8e70903d-49cf-4aa3-85d8-be6b0f7fee44",
   "metadata": {},
   "source": [
    "### Get your app URL\n",
    "\n",
    "**Run the cell below and open the link in a new tab.** This launches a browser-based interface for testing and debugging.\n",
    "\n",
    "When you open the interface in your browser, you'll see the Google ADK user interface. In the left pane, select your agent from the dropdown (app_01). \n",
    "\n",
    "Try asking the agent a question with voice. Notice the model choice—`gemini-2.0-flash-live-001`. This is crucial because it supports Gemini Live API, enabling real-time, low-latency voice conversations.\n",
    "\n",
    "**Voila - you have built your very first agent!** Your agent also responds with real-time, conversational voice, not just text-to-speech. It thinks and speaks in a natural flow, powered by a \"live\" model. The complex bidirectional audio streaming and real-time processing are handled for you automatically in the background by the ADK web UI.\n",
    "\n",
    "**Important**: In the optional final lesson, you can explore the technical details about the bidirectional audio streaming and go over a brief overview of the architecture.\n"
   ]
  },
  {
   "cell_type": "code",
   "execution_count": 5,
   "id": "f4494a9f-ef75-4cdc-bd29-286c587ee8f9",
   "metadata": {},
   "outputs": [
    {
     "name": "stdout",
     "output_type": "stream",
     "text": [
      "https://s172-29-23-103p8001.lab-aws-production.deeplearning.ai/\n"
     ]
    }
   ],
   "source": [
    "import os\n",
    "print(os.environ.get('DLAI_LOCAL_URL').format(port='8001'))"
   ]
  },
  {
   "cell_type": "markdown",
   "id": "1f672e59-60d7-4470-903f-0b582a513897",
   "metadata": {},
   "source": [
    "## 1.5 Adding tools to your agent\n",
    "\n",
    "**But here's the problem:** try asking this agent about the latest AI developments, and you'll quickly discover it can only tell you about things that happened before its training cutoff date. For an AI news assistant that's supposed to fetch the latest news, that's not particularly helpful.\n",
    "\n",
    "You need to fix that by providing your agent with **Tools**. Create another empty scaffolding folder to create an agent with a tool by running the cell below."
   ]
  },
  {
   "cell_type": "code",
   "execution_count": 6,
   "id": "ebc3a7b6-187b-4ee8-9e86-26e993084af3",
   "metadata": {},
   "outputs": [
    {
     "name": "stdout",
     "output_type": "stream",
     "text": [
      "\u001b[32m\n",
      "Agent created in /home/jovyan/work/L1/app_02:\n",
      "- .env\n",
      "- __init__.py\n",
      "- agent.py\n",
      "\u001b[0m\n"
     ]
    }
   ],
   "source": [
    "!adk create --type=code app_02 --model gemini-2.0-flash-live-001 --api_key $GEMINI_API_KEY"
   ]
  },
  {
   "cell_type": "markdown",
   "id": "eb9721c4-8f89-4902-8728-e1247edc4070",
   "metadata": {},
   "source": [
    "### Adding Google Search Tool\n",
    "\n",
    "In this scenario, to fetch the latest news, let's provide your agent with a built-in tool, `google_search`. These built-in tools come pre-packed with the library. \n",
    "\n",
    "To add it to the agent, just import it and provide it as a tool in the tools array. Run the cell below to import it."
   ]
  },
  {
   "cell_type": "code",
   "execution_count": 7,
   "id": "ed6fc828-eae5-48a7-b1ce-9e1de21703ff",
   "metadata": {},
   "outputs": [
    {
     "name": "stdout",
     "output_type": "stream",
     "text": [
      "Overwriting app_02/agent.py\n"
     ]
    }
   ],
   "source": [
    "%%writefile app_02/agent.py\n",
    "\n",
    "from google.adk.agents import Agent\n",
    "from google.adk.tools import google_search\n",
    "\n",
    "root_agent = Agent(\n",
    "    name=\"ai_news_agent_simple\",\n",
    "    model=\"gemini-2.0-flash-live-001\", # Essential for live voice interaction\n",
    "    instruction=\"You are an AI News Assistant. Use Google Search to find recent AI news.\",\n",
    "    tools=[google_search]\n",
    ")\n"
   ]
  },
  {
   "cell_type": "markdown",
   "id": "45eee247-eda7-4f67-ad8e-bfb866b0989c",
   "metadata": {},
   "source": [
    "**Refresh the ADK Web UI.** You should see a new app name (app_02) in the dropdown. Select it and start talking to your agent.\n",
    "\n",
    "Let's test the agent with the Google search tool by asking a query \"What is the latest AI News?\". Watch what happens: Your agent will use the Google Search tool to find current information, process the results, and give you a comprehensive, up-to-date response with sources.\n",
    "\n",
    "Just like that, your agent can now access **real-time information** from across the web!\n",
    "\n",
    "ADK comes with several other powerful built-in tools—there are tools for running your code in a sandbox, querying databases, even integrations with Google Workspace tools like Calendar, Drive etc."
   ]
  },
  {
   "cell_type": "markdown",
   "id": "221047fa-6abb-43ca-9b42-2ad9aef35ea9",
   "metadata": {},
   "source": [
    "## 1.6 Adding a text model\n",
    "So far you've been using `gemini-2.0-flash-live-001`, which is specifically designed for real-time voice interactions. But ADK supports a wide range of models, each optimized for different use cases.\n",
    "\n",
    "Text-focused models like `gemini-2.5-flash` are ideal when you don't need voice interaction but want optimized text processing. They often provide faster response times.\n",
    "\n",
    "Let's create a variant of your agent using a text-optimized model to see how it behaves differently.\n",
    "\n",
    "Create a new folder for the text-based agent by running the cell below."
   ]
  },
  {
   "cell_type": "code",
   "execution_count": 8,
   "id": "19b27e11-ed59-41be-89aa-93e404b618e9",
   "metadata": {},
   "outputs": [
    {
     "name": "stdout",
     "output_type": "stream",
     "text": [
      "\u001b[32m\n",
      "Agent created in /home/jovyan/work/L1/app_03:\n",
      "- .env\n",
      "- __init__.py\n",
      "- agent.py\n",
      "\u001b[0m\n"
     ]
    }
   ],
   "source": [
    "!adk create --type=code app_03 --model gemini-2.5-flash --api_key $GEMINI_API_KEY"
   ]
  },
  {
   "cell_type": "markdown",
   "id": "6354c75f-5d94-4235-8e93-a182d0838ee5",
   "metadata": {},
   "source": [
    "Run the below cell to create a new agent. Notice how the only difference in the code is the \"model\" name."
   ]
  },
  {
   "cell_type": "code",
   "execution_count": 9,
   "id": "86f01546-4b74-4e85-bed5-66812ba0de4b",
   "metadata": {},
   "outputs": [
    {
     "name": "stdout",
     "output_type": "stream",
     "text": [
      "Overwriting app_03/agent.py\n"
     ]
    }
   ],
   "source": [
    "%%writefile app_03/agent.py\n",
    "\n",
    "from google.adk.agents import Agent\n",
    "from google.adk.tools import google_search\n",
    "\n",
    "root_agent = Agent(\n",
    "    name=\"ai_news_agent_simple\",\n",
    "    model=\"gemini-2.5-flash\",\n",
    "    instruction=\"You are an AI News Assistant. Use Google Search to find recent AI news.\",\n",
    "    tools=[google_search]\n",
    ")\n"
   ]
  },
  {
   "cell_type": "markdown",
   "id": "b58943e8-6fe7-45e4-bdb1-b0e8b20b11bb",
   "metadata": {},
   "source": [
    "**Refresh the ADK Web UI**, and select the app_03 from the dropdown menu. Chat with your agent using text and ask it: \"Give me the latest AI news\".\n",
    "\n",
    "*Bonus:* Explore the different capabilities in the Web UI like the Events tab."
   ]
  },
  {
   "cell_type": "markdown",
   "id": "0817da01-d898-4d88-a65a-97fdb48d2869",
   "metadata": {},
   "source": [
    "## 1.7 Alternative development approaches\n",
    "\n",
    "ADK supports a declarative approach using YAML files. This is ideal for when you want rapid prototyping without code or want configuration or declarative style development.\n",
    "\n",
    "Create a new folder for the agent by running the cell below. Notice that this time you use `--type=config`. This will create a new directory for your agent. \n",
    "\n",
    "```\n",
    "app_04/\n",
    "    __init__.py\n",
    "    root_agent.yaml\n",
    "    .env\n",
    "```\n",
    "\n",
    "A new file for your agent called `root_agent.yaml` is created and you will use that to configure your agent."
   ]
  },
  {
   "cell_type": "code",
   "execution_count": 10,
   "id": "778c12f1-21ef-4770-b533-1454429ebdce",
   "metadata": {},
   "outputs": [
    {
     "name": "stdout",
     "output_type": "stream",
     "text": [
      "\u001b[32m\n",
      "Agent created in /home/jovyan/work/L1/app_04:\n",
      "- .env\n",
      "- __init__.py\n",
      "- root_agent.yaml\n",
      "\u001b[0m\n"
     ]
    }
   ],
   "source": [
    "# You can also define the agent with simple YAML confirguration \n",
    "\n",
    "!adk create --type=config app_04 --model gemini-2.5-flash --api_key $GEMINI_API_KEY"
   ]
  },
  {
   "cell_type": "markdown",
   "id": "01bdd9c4-2169-445a-992e-0677c96a3651",
   "metadata": {},
   "source": [
    "### Building agents with the YAML configuration\n",
    "\n",
    "The config below maps directly to our Python version. You define the same core components—name, model, instructions, and tools—but in a declarative format. The schema validation ensures your configuration is correct.\n",
    "\n",
    "Now, **refresh the ADK Web UI** and switch to the yaml version in the UI (select app_04 in the dropdown). Try interacting with the agent using voice and verify it is fully functional."
   ]
  },
  {
   "cell_type": "code",
   "execution_count": 11,
   "id": "89d9dbdd-056d-494b-b080-f729040fe639",
   "metadata": {},
   "outputs": [
    {
     "name": "stdout",
     "output_type": "stream",
     "text": [
      "Overwriting app_04/root_agent.yaml\n"
     ]
    }
   ],
   "source": [
    "%%writefile app_04/root_agent.yaml\n",
    "\n",
    "name: ai_news_agent_yaml\n",
    "model: gemini-2.0-flash-live-001 # Using a model that supports live voice\n",
    "description: An agent that answers questions about recent news in Artificial Intelligence.\n",
    "instruction: You are an AI News Assistant. Use Google Search to find and summarize recent AI news.\n",
    "tools:\n",
    "  - name: google_search\n"
   ]
  },
  {
   "cell_type": "markdown",
   "id": "ca3398ce-bf68-476c-af33-e11c6b5d298c",
   "metadata": {},
   "source": [
    "## 1.8 Fine-tuning agent instructions\n",
    "\n",
    "So far your agent has simple instructions, but for reliable behavior, you need more sophisticated instruction engineering. Let's enhance your agent with strict behavioral controls.\n",
    "\n",
    "Create a new folder using the `adk create` command."
   ]
  },
  {
   "cell_type": "code",
   "execution_count": 12,
   "id": "defb96d5-2b56-48ea-8f8a-d6bfe6df533f",
   "metadata": {},
   "outputs": [
    {
     "name": "stdout",
     "output_type": "stream",
     "text": [
      "\u001b[32m\n",
      "Agent created in /home/jovyan/work/L1/app_05:\n",
      "- .env\n",
      "- __init__.py\n",
      "- agent.py\n",
      "\u001b[0m\n"
     ]
    }
   ],
   "source": [
    "# You can also modify the instructions  \n",
    "\n",
    "!adk create --type=code app_05 --model gemini-2.0-flash-live-001 --api_key $GEMINI_API_KEY"
   ]
  },
  {
   "cell_type": "markdown",
   "id": "dc1bbed0-7366-4db4-8cf5-434a2c45d177",
   "metadata": {},
   "source": [
    "Write the updated agent code to the `agent.py` file."
   ]
  },
  {
   "cell_type": "code",
   "execution_count": 13,
   "id": "ca43acce-ca31-4683-83c1-f32f6f9e521e",
   "metadata": {},
   "outputs": [
    {
     "name": "stdout",
     "output_type": "stream",
     "text": [
      "Overwriting app_05/agent.py\n"
     ]
    }
   ],
   "source": [
    "%%writefile app_05/agent.py\n",
    "\n",
    "from google.adk.agents import Agent\n",
    "from google.adk.tools import google_search\n",
    "\n",
    "root_agent = Agent(\n",
    "    name=\"ai_news_agent_strict\",\n",
    "    model=\"gemini-2.0-flash-live-001\",\n",
    "    instruction=\"\"\"\n",
    "    **Your Core Identity and Sole Purpose:**\n",
    "    You are a specialized AI News Assistant. Your sole and exclusive purpose is to find and summarize recent news (from the last few weeks) about Artificial Intelligence.\n",
    "\n",
    "    **Strict Refusal Mandate:**\n",
    "    If a user asks about ANY topic that is not recent AI news, you MUST refuse.\n",
    "    For off-topic requests, respond with the exact phrase: \"Sorry, I can't answer anything about this. I am only supposed to answer about the latest AI news.\"\n",
    "\n",
    "    **Required Workflow for Valid Requests:**\n",
    "    1. You MUST use the `google_search` tool to find information.\n",
    "    2. You MUST base your answer strictly on the search results.\n",
    "    3. You MUST cite your sources.\n",
    "    \"\"\",\n",
    "    tools=[google_search]\n",
    ")"
   ]
  },
  {
   "cell_type": "markdown",
   "id": "b8f6fe0e-cad6-4beb-a2af-deda8f4dce1f",
   "metadata": {},
   "source": [
    "### Understanding Advanced Instructions\n",
    "\n",
    "This enhanced instruction pattern includes:\n",
    "\n",
    "- **Clear Identity**: Explicitly defines the agent's sole purpose\n",
    "- **Refusal Mechanism**: Provides exact phrases for rejecting off-topic requests  \n",
    "- **Workflow Requirements**: Forces the agent to use tools and cite sources\n",
    "- **Behavioral Boundaries**: Sets expectations for valid vs. invalid requests\n",
    "\n",
    "This creates a much more reliable and focused agent behavior.\n",
    "\n",
    "### Testing Instructions\n",
    "\n",
    "**Refresh the ADK Web UI**, select the appropriate app (app_05) from the dropdown menu and test your enhanced agent with both valid and invalid requests:\n",
    "\n",
    "**Valid prompts** (should get a response):\n",
    "- \"What's the latest AI news about Google?\"\n",
    "- \"Tell me about recent AI chip developments\"\n",
    "\n",
    "**Invalid prompts** (should be refused):\n",
    "- \"What's the weather today?\"\n",
    "- \"Help me with my homework\"\n",
    "\n",
    "Watch how the agent now maintains strict boundaries while still being helpful for AI-related queries."
   ]
  },
  {
   "cell_type": "markdown",
   "id": "976c2eb6-2a89-4af9-90eb-97eeb746cb89",
   "metadata": {},
   "source": [
    "# 🚨 **IMPORTANT** 🚨\n",
    "\n",
    "After finishing, make sure to run the cell below to close your connection so it does not interfere as you progress through the notebooks."
   ]
  },
  {
   "cell_type": "code",
   "execution_count": 14,
   "id": "1a77bfa2-5f0f-451a-9df3-4fdeb847a864",
   "metadata": {},
   "outputs": [],
   "source": [
    "# Kill ADK process\n",
    "!pkill -f \"adk web\""
   ]
  },
  {
   "cell_type": "markdown",
   "id": "2a6dca80-b9e6-4fcb-8375-1b5cf6071732",
   "metadata": {},
   "source": [
    "<p style=\"background-color:#f7fff8; padding:15px; border-width:3px; border-color:#e0f0e0; border-style:solid; border-radius:6px\"> 🚨\n",
    "&nbsp; <b>Different Run Results:</b> The output generated by AI chat models can vary with each execution due to their dynamic, probabilistic nature. Don't be surprised if your results differ from those shown in the video.</p>"
   ]
  },
  {
   "cell_type": "markdown",
   "id": "89f3354c-f918-454a-a336-d65d785cf86c",
   "metadata": {},
   "source": [
    "<div style=\"background-color:#fff6ff; padding:13px; border-width:3px; border-color:#efe6ef; border-style:solid; border-radius:6px\">\n",
    "<p> 💻 &nbsp; <b> To Access the <code>requirements.txt</code> file or the <code>papers</code> folder: </b> 1) click on the <em>\"File\"</em> option on the top menu of the notebook and then 2) click on <em>\"Open\"</em> and finally 3) click on <em>\"L1\"</em>.\n",
    "</div>"
   ]
  },
  {
   "cell_type": "markdown",
   "id": "c43e7d12-fc50-4084-b722-67de6ad4b57c",
   "metadata": {},
   "source": [
    "<div style=\"background-color:#fff6ff; padding:13px; border-width:3px; border-color:#efe6ef; border-style:solid; border-radius:6px\">\n",
    "\n",
    "\n",
    "<p> ⬇ &nbsp; <b>Download Notebooks:</b> 1) click on the <em>\"File\"</em> option on the top menu of the notebook and then 2) click on <em>\"Download as\"</em> and select <em>\"Notebook (.ipynb)\"</em>.</p>\n",
    "\n",
    "</div>"
   ]
  },
  {
   "cell_type": "markdown",
   "id": "f43b9eaf-e61d-4e9f-8054-67ae745226b4",
   "metadata": {},
   "source": [
    "# Resources\n",
    "\n",
    "[Gemini API Models](https://ai.google.dev/gemini-api/docs/models#model-variations)"
   ]
  },
  {
   "cell_type": "code",
   "execution_count": null,
   "id": "14d535a9-8088-45f9-a683-9e16545b88db",
   "metadata": {},
   "outputs": [],
   "source": []
  }
 ],
 "metadata": {
  "kernelspec": {
   "display_name": "Python 3 (ipykernel)",
   "language": "python",
   "name": "python3"
  },
  "language_info": {
   "codemirror_mode": {
    "name": "ipython",
    "version": 3
   },
   "file_extension": ".py",
   "mimetype": "text/x-python",
   "name": "python",
   "nbconvert_exporter": "python",
   "pygments_lexer": "ipython3",
   "version": "3.11.14"
  }
 },
 "nbformat": 4,
 "nbformat_minor": 5
}
