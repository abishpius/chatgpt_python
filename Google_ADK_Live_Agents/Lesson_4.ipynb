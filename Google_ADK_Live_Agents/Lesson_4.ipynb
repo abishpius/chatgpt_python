{
 "cells": [
  {
   "cell_type": "markdown",
   "id": "5f015022-58a5-4bc1-be0a-9fcea6ce57c6",
   "metadata": {},
   "source": [
    "# L4: Adding a Research Agent"
   ]
  },
  {
   "cell_type": "markdown",
   "id": "17deaddb-eadf-4565-841f-b7530ca8ee25",
   "metadata": {},
   "source": [
    "In this lesson, you'll transform your agent from a conversational interface into a research coordinator that works behind the scenes. You'll learn to implement a **coordinator-dispatcher** pattern where the root agent delegates research work to background processes and saves structured reports for later use.\n",
    "\n",
    "This architectural shift is crucial for building production AI systems that can handle complex workflows without overwhelming users with intermediate processing details.\n",
    "\n",
    "**Key Learning Objectives:**\n",
    "\n",
    "- Create coordinator agents that delegate work silently\n",
    "- Build agents optimized for background processing\n",
    "- Implement file persistence with structured markdown reports\n",
    "- Understand when to use structured schemas vs. free-form output\n",
    "\n",
    "**Note:** This lesson introduces patterns essential for multi-agent systems and production deployment."
   ]
  },
  {
   "cell_type": "markdown",
   "id": "5a8a15a1-a4a4-4970-8405-2666ce31025b",
   "metadata": {},
   "source": [
    "## 4.1 Getting Started\n",
    "The following python packages are pre-installed, but listed here for your reference. This will install a handy set of command-line tools that will be useful when working with ADK."
   ]
  },
  {
   "cell_type": "code",
   "execution_count": null,
   "id": "f4752c2f-8666-4f9f-8867-091a6467314f",
   "metadata": {},
   "outputs": [],
   "source": [
    "# !pip install google-adk>=1.12.0\n",
    "# !pip install yfinance"
   ]
  },
  {
   "cell_type": "code",
   "execution_count": null,
   "id": "b644ef8b-848a-46cb-bcc2-55432e25f66d",
   "metadata": {},
   "outputs": [],
   "source": [
    "from helper import *\n",
    "\n",
    "# Load environment variables from .env file\n",
    "load_env()"
   ]
  },
  {
   "cell_type": "markdown",
   "id": "887a0d42-9e33-4b80-88f9-eb77e779df89",
   "metadata": {},
   "source": [
    "## 4.2 Setting up your agent\n",
    "The first step is to create the ADK folder, just like you've done in the previous lessons."
   ]
  },
  {
   "cell_type": "code",
   "execution_count": null,
   "id": "f2ef66c0-595e-4367-ae8e-7263e0ea6198",
   "metadata": {},
   "outputs": [],
   "source": [
    "# First we create our expected agent folder \n",
    "# You can explore available option: !adk create --help \n",
    "\n",
    "!adk create --type=code app04 --model gemini-2.0-flash-live-001 --api_key $GEMINI_API_KEY"
   ]
  },
  {
   "cell_type": "markdown",
   "id": "4e78c9b9-4ca8-43c4-878b-e5808693f074",
   "metadata": {},
   "source": [
    "## 4.3 The Coordinator-Dispatcher Architecture Pattern\n",
    "In this lesson, you'll be implementing a sophisticated architectural pattern that separates user interaction from background processing. This pattern is essential for production AI systems.\n",
    "\n",
    "### The Challenge: Information Overload\n",
    "In previous lessons, your agent would research news and immediately read all findings to the user. This creates several problems:\n",
    "\n",
    "- **Cognitive overload**: Users get overwhelmed with raw research data  \n",
    "- **Poor user experience**: Long delays while listening to unfiltered information  \n",
    "- **Inefficient workflows**: No separation between data gathering and content creation  \n",
    "\n",
    "### The Solution: Coordinator-Dispatcher Pattern\n",
    "The coordinator-dispatcher pattern solves this by implementing a two-phase workflow:\n",
    "\n",
    "1. **Coordination Phase**: Root agent acknowledges the request and coordinates background work  \n",
    "2. **Execution Phase**: Agent silently executes research, analysis, and file persistence  \n",
    "\n",
    "### Implementation Strategy\n",
    "You'll add a save_news_to_markdown tool that:\n",
    "\n",
    "- Takes research from google_search and get_financial_context  \n",
    "- Structures the data into a readable markdown report  \n",
    "- Saves results as ai_research_report.md  \n",
    "- Enables the root agent to work as a coordinator, not a presenter  \n",
    "\n",
    "This architectural shift prepares you for the podcast generation system you'll build in later lessons.\n",
    "\n",
    "### Financial Context Tool: Reusing Existing Components\n",
    "You'll start by implementing the same financial data tool from Lesson 2."
   ]
  },
  {
   "cell_type": "code",
   "execution_count": null,
   "id": "e44131f3-fd3a-4c1b-b998-096164c1a047",
   "metadata": {},
   "outputs": [],
   "source": [
    "%%writefile app04/agent.py\n",
    "import pathlib\n",
    "from typing import Dict, List\n",
    "import yfinance as yf\n",
    "\n",
    "from google.adk.agents import Agent\n",
    "from google.adk.tools import google_search\n",
    "\n",
    "\n",
    "def get_financial_context(tickers: List[str]) -> Dict[str, str]:\n",
    "    \"\"\"\n",
    "    Fetches the current stock price and daily change for a list of stock tickers\n",
    "    using the yfinance library.\n",
    "\n",
    "    Args:\n",
    "        tickers: A list of stock market tickers (e.g., [\"NVDA\", \"MSFT\"]).\n",
    "\n",
    "    Returns:\n",
    "        A dictionary mapping each ticker to its formatted financial data string.\n",
    "    \"\"\"\n",
    "    financial_data: Dict[str, str] = {}\n",
    "    for ticker_symbol in tickers:\n",
    "        try:\n",
    "            # Create a Ticker object\n",
    "            stock = yf.Ticker(ticker_symbol)\n",
    "            \n",
    "            # Fetch the info dictionary\n",
    "            info = stock.info\n",
    "            \n",
    "            # Safely access the required data points\n",
    "            price = info.get(\"currentPrice\") or info.get(\"regularMarketPrice\")\n",
    "            change_percent = info.get(\"regularMarketChangePercent\")\n",
    "            \n",
    "            if price is not None and change_percent is not None:\n",
    "                # Format the percentage and the final string\n",
    "                change_str = f\"{change_percent * 100:+.2f}%\"\n",
    "                financial_data[ticker_symbol] = f\"${price:.2f} ({change_str})\"\n",
    "            else:\n",
    "                # Handle cases where the ticker is valid but data is missing\n",
    "                financial_data[ticker_symbol] = \"Price data not available.\"\n",
    "\n",
    "        except Exception:\n",
    "            # This handles invalid tickers or other yfinance errors gracefully\n",
    "            financial_data[ticker_symbol] = \"Invalid Ticker or Data Error\"\n",
    "            \n",
    "    return financial_data"
   ]
  },
  {
   "cell_type": "markdown",
   "id": "544d254d-4755-4283-872e-12019b4e0db4",
   "metadata": {},
   "source": [
    "## 4.4 File Persistence Tool: Creating Structured Reports\n",
    "Now you'll implement a tool that saves research results to persistent storage, providing us with downloadable, shareable reports."
   ]
  },
  {
   "cell_type": "code",
   "execution_count": null,
   "id": "3484689a-947d-4643-83bb-4b07f5a53d44",
   "metadata": {},
   "outputs": [],
   "source": [
    "%%writefile -a app04/agent.py\n",
    "\n",
    "def save_news_to_markdown(filename: str, content: str) -> Dict[str, str]:\n",
    "    \"\"\"\n",
    "    Saves the given content to a Markdown file in the current directory.\n",
    "\n",
    "    Args:\n",
    "        filename: The name of the file to save (e.g., 'ai_news.md').\n",
    "        content: The Markdown-formatted string to write to the file.\n",
    "\n",
    "    Returns:\n",
    "        A dictionary with the status of the operation.\n",
    "    \"\"\"\n",
    "    try:\n",
    "        if not filename.endswith(\".md\"):\n",
    "            filename += \".md\"\n",
    "        current_directory = pathlib.Path.cwd()\n",
    "        file_path = current_directory / filename\n",
    "        file_path.write_text(content, encoding=\"utf-8\")\n",
    "        return {\n",
    "            \"status\": \"success\",\n",
    "            \"message\": f\"Successfully saved news to {file_path.resolve()}\",\n",
    "        }\n",
    "    except Exception as e:\n",
    "        return {\"status\": \"error\", \"message\": f\"Failed to save file: {str(e)}\"}\n"
   ]
  },
  {
   "cell_type": "markdown",
   "id": "5d5b3574-9a57-4143-a401-1db12ec5a917",
   "metadata": {},
   "source": [
    "## 4.5 Advanced Agent Instructions: Implementing Coordinator Behavior\n",
    "\n",
    "### Adding a root agent\n",
    "Now you'll configure your agent with sophisticated instructions that implement the coordinator-dispatcher pattern.\n",
    "\n",
    "### Key Architectural Changes\n",
    "Compared to previous agents, you'll be implenting  several critical improvements using instructions that demonstrate several advanced patterns:\n",
    "\n",
    "- **Explicit role definition**: Provide a clear identity as \"background research coordinator\"\n",
    "- **Strict workflow specification**: Step-by-step execution requirements\n",
    "- **Output schema enforcement**: Exact format requirements for consistency\n",
    "- **Error Handling**: Graceful failure modes at each step and\n",
    "- **Behavioral Constraints**"
   ]
  },
  {
   "cell_type": "code",
   "execution_count": null,
   "id": "a944fd44-c36e-4a21-a090-55afe2b3d9ce",
   "metadata": {},
   "outputs": [],
   "source": [
    "%%writefile -a app04/agent.py\n",
    "\n",
    "# The root_agent is what ADK will run.\n",
    "root_agent = Agent(\n",
    "    name=\"ai_news_research_coordinator\",\n",
    "    model=\"gemini-2.0-flash-live-001\",\n",
    "    instruction=\"\"\"\n",
    "    **Your Identity:** You are a background AI Research Coordinator. Your sole purpose is to respond to requests for \n",
    "    recent AI news by performing a multi-step research task and saving the result to a file.\n",
    "\n",
    "    **Strict Topic Mandate:**\n",
    "    If a user asks about anything other than recent AI news, you MUST refuse with the exact phrase: \"Sorry, I can only help \n",
    "    with recent AI news.\"\n",
    "\n",
    "    **Required Two-Message Interaction Workflow:**\n",
    "\n",
    "    1.  **Initial Acknowledgment:** The MOMENT you receive a valid request for AI news, your first and only immediate \n",
    "    response MUST be:\n",
    "        *   \"Okay, I'll start researching the latest AI news. I will enrich the findings with financial data and compile a \n",
    "        report for you. This might take a moment.\"\n",
    "\n",
    "    2.  **Background Processing (Silent):** After sending the acknowledgment, you will silently execute the following \n",
    "    sequence of tool calls without any further communication with the user:\n",
    "        a.  **Search:** Use the `google_search` tool to find 5 recent, relevant news articles about AI, focusing on \n",
    "        US-listed companies.\n",
    "        b.  **Extract Tickers:** Internally, identify the stock ticker for each company mentioned (e.g., 'NVDA' for Nvidia).\n",
    "        c.  **Get Financial Data:** Call the `get_financial_context` tool with the list of extracted tickers.\n",
    "        d.  **Format Report:** Construct a single Markdown string for the report. You MUST format this string to \n",
    "        EXACTLY match the schema below.\n",
    "\n",
    "    **Required Report Schema:**\n",
    "    ```markdown\n",
    "    # AI Industry News Report\n",
    "\n",
    "    ## Top Headlines\n",
    "\n",
    "    ### 1. {News Headline 1}\n",
    "    *   **Company:** {Company Name} ({Ticker Symbol})\n",
    "    *   **Market Data:** {Stock Price and % Change from get_financial_context}\n",
    "    *   **Summary:** {Brief, 1-2 sentence summary of the news.}\n",
    "\n",
    "    ### 2. {News Headline 2}\n",
    "    *   **Company:** {Company Name} ({Ticker Symbol})\n",
    "    *   **Market Data:** {Stock Price and % Change from get_financial_context}\n",
    "    *   **Summary:** {Brief, 1-2 sentence summary of the news.}\n",
    "\n",
    "    (Continue for all 5 news items)\n",
    "    ```\n",
    "        e.  **Save Report:** Call the `save_news_to_markdown` tool with the filename `ai_research_report.md` and the fully \n",
    "        formatted Markdown string as the content.\n",
    "\n",
    "    3.  **Final Confirmation:** Once `save_news_to_markdown` returns a success message, your second and final response to the \n",
    "    user MUST be:\n",
    "        *   \"All done. I've compiled the research report with the latest financial context and saved it to \n",
    "        `ai_research_report.md`.\"\n",
    "\n",
    "    **Crucial Rule:** All complex work happens silently in the background between your initial acknowledgment and\n",
    "    your final confirmation. Do not engage in any other conversation.\n",
    "    \"\"\",\n",
    "    tools=[google_search, get_financial_context, save_news_to_markdown],\n",
    ")"
   ]
  },
  {
   "cell_type": "markdown",
   "id": "ac46f756-ce30-404e-bfb2-fb70526074ec",
   "metadata": {},
   "source": [
    "## 4.6 Test Your Agent\n",
    "Let's test your agent using the ADK Web UI. These steps will be repeated for all lessons in this course.\n",
    "\n",
    "1. Run the cell below to start a new terminal.\n",
    "2. In the new terminal, navigate to the L4 directory using the following command `cd L4`\n",
    "3. Then, in the terminal, start the ADK web server using the command  \n",
    "4. `adk web --host 0.0.0.0 --port 8004`\n",
    "5. Remember to hit `Ctrl + C` in the terminal when you are finished testing your agent"
   ]
  },
  {
   "cell_type": "code",
   "execution_count": null,
   "id": "20b7e725-9d7d-44c6-bb0b-3952ed9a14f1",
   "metadata": {},
   "outputs": [],
   "source": [
    "# start a new terminal\n",
    "import os\n",
    "from IPython.display import IFrame\n",
    "\n",
    "IFrame(f\"{os.environ.get('DLAI_LOCAL_URL').format(port=8888)}terminals/4\", \n",
    "       width=600, height=768)\n"
   ]
  },
  {
   "cell_type": "markdown",
   "id": "92697144-d26f-4c12-a99f-247808aa0f09",
   "metadata": {},
   "source": [
    "<p style=\"background-color:#f7fff8; padding:15px; border-width:3px; border-color:#e0f0e0; border-style:solid; border-radius:6px\"> 🔄\n",
    "&nbsp; <b>Starting the ADK Server:</b> After starting a new terminal window, it may take a few seconds to get a new command line prompt. "
   ]
  },
  {
   "cell_type": "markdown",
   "id": "a61a2e64-544f-4365-9807-1bd30aa7580f",
   "metadata": {},
   "source": [
    "### Get your application URL\n",
    "After you start the Google ADK server, run the following command to get the URL where you can access your app: "
   ]
  },
  {
   "cell_type": "code",
   "execution_count": null,
   "id": "ddb88488-d6d9-46b8-8ca2-086d4ef7f1a2",
   "metadata": {},
   "outputs": [],
   "source": [
    "import os\n",
    "print(os.environ.get('DLAI_LOCAL_URL').format(port='8004'))"
   ]
  },
  {
   "cell_type": "markdown",
   "id": "6391eec4-280d-49e2-bb3f-87f2951b6012",
   "metadata": {},
   "source": [
    "<div style=\"background-color:#fff6ff; padding:13px; border-width:3px; border-color:#efe6ef; border-style:solid; border-radius:6px\">\n",
    "\n",
    "### Gathering and Saving Output\n",
    "- Once you start the app, say something like \"Get me the latest news about artifical intelligence.\"\n",
    "- The agent will ask you how many articles you want it to return, provide it with any number. \n",
    "- A search will be performed behind the scences, and when the agent has finished saving the results to a file, it will provide you with a voice confirmation. This may take a few minutes. \n",
    "- Once you get a voice confirmation from the agent, you can move on to the next step- reading in the file and viewing your results. "
   ]
  },
  {
   "cell_type": "markdown",
   "id": "85f21659-5fb1-49d6-9c07-28a4733ea085",
   "metadata": {},
   "source": [
    "## 4.7 Viewing the output\n",
    "The following function will read in the .md file with the news results fetched by your agent. You can see that the output is clearly formatted by the instructions provided when creating the root agent. "
   ]
  },
  {
   "cell_type": "code",
   "execution_count": null,
   "id": "c8e5461f-870a-4bfa-bbec-e95e9082621b",
   "metadata": {},
   "outputs": [],
   "source": [
    "from IPython.display import Markdown, display\n",
    "\n",
    "# Read and display the markdown file\n",
    "with open('ai_research_report.md', 'r', encoding='utf-8') as f:\n",
    "    content = f.read()\n",
    "    \n",
    "display(Markdown(content))"
   ]
  },
  {
   "cell_type": "markdown",
   "id": "26d1eeba-8e2a-468f-ab72-e53ae94fe666",
   "metadata": {},
   "source": [
    "# 🚨 **IMPORTANT** 🚨\n",
    "\n",
    "After finishing, make sure to run the cell below to close your connection so it does not interfere as you progress through the notebooks."
   ]
  },
  {
   "cell_type": "code",
   "execution_count": null,
   "id": "f57227ac-4023-4ff1-b6e8-c0de80c3cbe3",
   "metadata": {},
   "outputs": [],
   "source": [
    "# Terminate ADK process\n",
    "!pkill -f \"adk web\""
   ]
  },
  {
   "cell_type": "markdown",
   "id": "14d60d62-4fbd-4d2f-82e2-8dd9633cd693",
   "metadata": {},
   "source": [
    "<p style=\"background-color:#f7fff8; padding:15px; border-width:3px; border-color:#e0f0e0; border-style:solid; border-radius:6px\"> 🚨\n",
    "&nbsp; <b>Different Run Results:</b> The output generated by AI chat models can vary with each execution due to their dynamic, probabilistic nature. Don't be surprised if your results differ from those shown in the video.</p>"
   ]
  },
  {
   "cell_type": "markdown",
   "id": "62f9869d-e41a-4a8a-95f3-ff90e70b34c1",
   "metadata": {},
   "source": [
    "<div style=\"background-color:#fff6ff; padding:13px; border-width:3px; border-color:#efe6ef; border-style:solid; border-radius:6px\">\n",
    "<p> 💻 &nbsp; <b> To Access the <code>requirements.txt</code> file or the <code>papers</code> folder: </b> 1) click on the <em>\"File\"</em> option on the top menu of the notebook and then 2) click on <em>\"Open\"</em> and finally 3) click on <em>\"L4\"</em>.\n",
    "</div>"
   ]
  },
  {
   "cell_type": "markdown",
   "id": "e638b352-d849-4a86-b4fd-1f2c8813d0b3",
   "metadata": {},
   "source": [
    "<div style=\"background-color:#fff6ff; padding:13px; border-width:3px; border-color:#efe6ef; border-style:solid; border-radius:6px\">\n",
    "\n",
    "\n",
    "<p> ⬇ &nbsp; <b>Download Notebooks:</b> 1) click on the <em>\"File\"</em> option on the top menu of the notebook and then 2) click on <em>\"Download as\"</em> and select <em>\"Notebook (.ipynb)\"</em>.</p>\n",
    "\n",
    "</div>"
   ]
  }
 ],
 "metadata": {
  "kernelspec": {
   "display_name": "Python 3 (ipykernel)",
   "language": "python",
   "name": "python3"
  },
  "language_info": {
   "codemirror_mode": {
    "name": "ipython",
    "version": 3
   },
   "file_extension": ".py",
   "mimetype": "text/x-python",
   "name": "python",
   "nbconvert_exporter": "python",
   "pygments_lexer": "ipython3",
   "version": "3.11.6"
  }
 },
 "nbformat": 4,
 "nbformat_minor": 5
}
